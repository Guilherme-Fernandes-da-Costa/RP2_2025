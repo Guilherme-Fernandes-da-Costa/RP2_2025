{
 "cells": [
  {
   "cell_type": "markdown",
   "metadata": {},
   "source": [
    "# Tratamento de Dados - Dengue 2022 (São Paulo)\n",
    "\n",
    "Este notebook realiza o tratamento (saneamento) do arquivo `dengue2022_mes.xlsx`, que contém a distribuição de casos notificados e confirmados de dengue por município e mês em São Paulo em 2022. O processo segue diretrizes de análise descritiva baseadas no livro *Estatística Básica* (Morettin & Bussab, 6ª ed.) e no repositório https://github.com/Guilherme-Fernandes-da-Costa/RP2_2025, que explora dados epidemiológicos e saneamento.\n",
    "\n",
    "## Objetivo\n",
    "- Limpar e preparar os dados para análise.\n",
    "- Calcular estatísticas descritivas e criar visualizações básicas.\n",
    "- Preparar os dados para futuras correlações (ex.: com indicadores de saneamento)."
   ]
  },
  {
   "cell_type": "code",
   "execution_count": null,
   "metadata": {},
   "outputs": [],
   "source": [
    "# Importação de bibliotecas\n",
    "import pandas as pd\n",
    "import numpy as np\n",
    "import matplotlib.pyplot as plt"
   ]
  },
  {
   "cell_type": "markdown",
   "metadata": {},
   "source": [
    "## 1. Leitura do Arquivo\n",
    "O arquivo possui headers multi-nível (linhas 4-6) e linhas iniciais irrelevantes. Usamos `pd.read_excel` com `header=[3,4,5]` para capturar o multi-header."
   ]
  },
  {
   "cell_type": "code",
   "execution_count": null,
   "metadata": {},
   "outputs": [],
   "source": [
    "# Leitura do arquivo\n",
    "df = pd.read_excel('dengue2022_mes.xlsx', sheet_name='dengue2022_mes', header=[3, 4, 5], skiprows=0)\n",
    "\n",
    "# Visualizar as primeiras linhas e shape\n",
    "print(df.head())\n",
    "print(df.shape)"
   ]
  },
  {
   "cell_type": "markdown",
   "metadata": {},
   "source": [
    "## 2. Limpeza Inicial (Saneamento Básico)\n",
    "- Remover linhas vazias ou irrelevantes.\n",
    "- Preencher NaNs com 0 em colunas numéricas.\n",
    "- Renomear colunas para simplificar.\n",
    "- Converter tipos para inteiro onde aplicável."
   ]
  },
  {
   "cell_type": "code",
   "execution_count": null,
   "metadata": {},
   "outputs": [],
   "source": [
    "# Remover linhas com todos NaNs e últimas linhas (totais e notas)\n",
    "df = df.dropna(how='all')\n",
    "df = df[:-3]  # Ajuste se necessário com base na análise dos dados\n",
    "\n",
    "# Preencher NaNs em colunas numéricas com 0\n",
    "numeric_cols = df.select_dtypes(include=['float64', 'int64']).columns\n",
    "df[numeric_cols] = df[numeric_cols].fillna(0)\n",
    "\n",
    "# Flatten multi-header\n",
    "df.columns = ['_'.join(col).strip().replace('Unnamed:', '').replace('_level_2', '') for col in df.columns.values]\n",
    "df.columns = df.columns.str.replace(r'\\s+', '_', regex=True)\n",
    "\n",
    "# Converter tipos para inteiro\n",
    "case_cols = [col for col in df.columns if 'notificados' in col or 'confirmados' in col]\n",
    "df[case_cols] = df[case_cols].astype(int)\n",
    "\n",
    "# Remover colunas desnecessárias\n",
    "df = df.loc[:, ~df.columns.str.contains('^Unnamed')]\n",
    "\n",
    "print(df.head())"
   ]
  },
  {
   "cell_type": "markdown",
   "metadata": {},
   "source": [
    "## 3. Tratamento Avançado\n",
    "- Calcular totais confirmados por mês (autóctones + importados).\n",
    "- Adicionar total anual por município.\n",
    "- Transformar em formato long para análise temporal."
   ]
  },
  {
   "cell_type": "code",
   "execution_count": null,
   "metadata": {},
   "outputs": [],
   "source": [
    "# Calcular totais confirmados por mês\n",
    "months = ['Janeiro', 'Fevereiro', 'Março', 'Abril', 'Maio', 'Junho', 'Julho', 'Agosto', 'Setembro', 'Outubro', 'Novembro', 'Dezembro']\n",
    "for month in months:\n",
    "    df[f'{month}_confirmados_total'] = df[f'{month}_confirmados_autóctones'] + df[f'{month}_confirmados_importados']\n",
    "\n",
    "# Total anual por município\n",
    "df['Total_confirmados_anual'] = df[[f'{m}_confirmados_total' for m in months]].sum(axis=1)\n",
    "\n",
    "# Filtrar municípios com >100 casos totais\n",
    "df_filtered = df[df['Total_confirmados_anual'] > 100]\n",
    "\n",
    "# Transformar em formato long\n",
    "id_vars = ['DRS_', 'GVE_', 'Região_de_Saúde_', 'município_']\n",
    "value_vars = [col for col in df.columns if 'confirmados_total' in col and 'anual' not in col]\n",
    "df_long = pd.melt(df, id_vars=id_vars, value_vars=value_vars, var_name='Mês', value_name='Casos_Confirmados')\n",
    "df_long['Mês'] = df_long['Mês'].str.replace('_confirmados_total', '')\n",
    "\n",
    "print(df_long.head())"
   ]
  },
  {
   "cell_type": "markdown",
   "metadata": {},
   "source": [
    "## 4. Análise Estatística Básica\n",
    "- Estatísticas descritivas (média, mediana, desvio-padrão).\n",
    "- Visualização com histograma (baseado no cap. 2 do livro)."
   ]
  },
  {
   "cell_type": "code",
   "execution_count": null,
   "metadata": {},
   "outputs": [],
   "source": [
    "# Estatísticas descritivas por mês (ex.: Março)\n",
    "print(df['Março_confirmados_total'].describe())\n",
    "\n",
    "# Histograma de casos totais anuais\n",
    "plt.figure(figsize=(10,6))\n",
    "df['Total_confirmados_anual'].hist(bins=20)\n",
    "plt.title('Distribuição de Casos Confirmados de Dengue por Município (2022)')\n",
    "plt.xlabel('Casos Totais')\n",
    "plt.ylabel('Frequência')\n",
    "plt.show()"
   ]
  },
  {
   "cell_type": "markdown",
   "metadata": {},
   "source": [
    "## 5. Exportação dos Dados\n",
    "Salvar o dataframe limpo para uso posterior."
   ]
  },
  {
   "cell_type": "code",
   "execution_count": null,
   "metadata": {},
   "outputs": [],
   "source": [
    "# Exportar para CSV\n",
    "df.to_csv('dengue2022_limpo.csv', index=False)\n",
    "print('Arquivo salvo como dengue2022_limpo.csv')"
   ]
  },
  {
   "cell_type": "markdown",
   "metadata": {},
   "source": [
    "## 6. Próximos Passos\n",
    "- Integrar com dados de saneamento (ex.: IBGE/DataSUS) para análise de correlações.\n",
    "- Expandir visualizações (boxplots, séries temporais).\n",
    "- Adicionar análise regional por DRS/GVE."
   ]
  }
 ],
 "metadata": {
  "kernelspec": {
   "display_name": "Python 3",
   "language": "python",
   "name": "python3"
  },
  "language_info": {
   "codemirror_mode": {
    "name": "ipython",
    "version": 3
   },
   "file_extension": ".py",
   "mimetype": "text/x-python",
   "name": "python",
   "nbconvert_exporter": "python",
   "pygments_lexer": "ipython3",
   "version": "3.8.5"
  }
 },
 "nbformat": 4,
 "nbformat_minor": 4
}

