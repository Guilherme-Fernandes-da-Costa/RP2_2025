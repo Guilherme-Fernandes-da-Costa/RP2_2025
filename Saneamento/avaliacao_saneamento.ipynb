{
 "cells": [
  {
   "cell_type": "markdown",
   "id": "56e59c96",
   "metadata": {},
   "source": [
    "Esse arquivo tem como intuito tratar, 'plotar' e avaliar os datasets presentes a pasta Saneamento/datasets com o fim de compor a base metodológica do trabalho semestral de RP2 \"Uma análise quantitativa da distribuição de casos de dengue na cidade de São Paulo em suas várias granularidades.\"\n",
    "\n",
    "Para melhor aproveitamento desse arquivo use Python 3."
   ]
  },
  {
   "cell_type": "code",
   "execution_count": null,
   "id": "5f2d6418",
   "metadata": {
    "vscode": {
     "languageId": "plaintext"
    }
   },
   "outputs": [],
   "source": [
    "# importando bibliotecas necessparias.\n",
    "import pandas as pd\n",
    "import numpy as np\n",
    "import matplotlib.pyplot as plt\n",
    "import seaborn as sns"
   ]
  }
 ],
 "metadata": {
  "language_info": {
   "name": "python"
  }
 },
 "nbformat": 4,
 "nbformat_minor": 5
}
